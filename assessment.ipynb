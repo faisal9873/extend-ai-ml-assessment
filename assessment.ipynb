{
  "nbformat": 4,
  "nbformat_minor": 0,
  "metadata": {
    "colab": {
      "provenance": [],
      "machine_shape": "hm"
    },
    "kernelspec": {
      "name": "python3",
      "display_name": "Python 3"
    },
    "language_info": {
      "name": "python"
    },
    "accelerator": "TPU",
    "gpuClass": "standard"
  },
  "cells": [
    {
      "cell_type": "code",
      "execution_count": 1,
      "metadata": {
        "colab": {
          "base_uri": "https://localhost:8080/"
        },
        "id": "pDQX1iGn3RLA",
        "outputId": "9ce08727-39ae-4c75-bb30-73ad8124d7a4"
      },
      "outputs": [
        {
          "output_type": "stream",
          "name": "stdout",
          "text": [
            "fatal: destination path 'extend-ai-ml-assessment' already exists and is not an empty directory.\n"
          ]
        }
      ],
      "source": [
        "!git clone https://github.com/faisal9873/extend-ai-ml-assessment"
      ]
    },
    {
      "cell_type": "code",
      "source": [
        "import numpy as np\n",
        "import torch\n",
        "import glob\n",
        "import cv2\n",
        "import torch.nn as nn\n",
        "import torchvision\n",
        "import torchvision.transforms as transforms\n",
        "import torchvision.models as models\n",
        "import pickle\n",
        "from matplotlib import pyplot as plt\n",
        "from skimage.transform import rotate\n",
        "from skimage.util import random_noise\n",
        "from skimage.filters import gaussian\n",
        "from sklearn.metrics import accuracy_score\n",
        "from scipy import ndimage\n",
        "from tqdm import tqdm\n",
        "from torch.nn import Module\n",
        "from torch.nn import Conv2d\n",
        "from torch.nn import Linear\n",
        "from torch.nn import MaxPool2d\n",
        "from torch.nn import ReLU\n",
        "from torch.nn import LogSoftmax\n",
        "from torch import flatten\n",
        "import torch.nn.functional as F\n",
        "from torch.autograd import Variable"
      ],
      "metadata": {
        "id": "nXMHzYzF363a"
      },
      "execution_count": 1,
      "outputs": []
    },
    {
      "cell_type": "code",
      "source": [
        "from google.colab import drive\n",
        "drive.mount('/content/drive')"
      ],
      "metadata": {
        "colab": {
          "base_uri": "https://localhost:8080/"
        },
        "id": "QEHKArE14wqh",
        "outputId": "35dc295f-8a9b-41da-da21-fdd5401e9839"
      },
      "execution_count": 2,
      "outputs": [
        {
          "output_type": "stream",
          "name": "stdout",
          "text": [
            "Drive already mounted at /content/drive; to attempt to forcibly remount, call drive.mount(\"/content/drive\", force_remount=True).\n"
          ]
        }
      ]
    },
    {
      "cell_type": "code",
      "source": [
        "images1 = [cv2.imread(file) for file in glob.glob('/content/drive/MyDrive/Colab Notebooks/extend_AI/data_grouped/unmarked/*.jpg')]\n",
        "images2 = [cv2.imread(file) for file in glob.glob('/content/drive/MyDrive/Colab Notebooks/extend_AI/data_grouped/marked/*.jpg')]\n",
        "\n",
        "#image resize\n",
        "print(len(images1))\n",
        "images1_resize = images1\n",
        "images2_resize = images2\n",
        "a = cv2.resize(images1[0],(128,128),interpolation=cv2.INTER_AREA)\n",
        "for i in range (len(images1)):\n",
        "  images1_resize[i] = cv2.resize(images1[i],(128,128),interpolation=cv2.INTER_AREA)\n",
        "  images2_resize[i] = cv2.resize(images2[i],(128,128),interpolation=cv2.INTER_AREA)\n",
        "\n",
        "images1_resize = (np.array(images1_resize))/255\n",
        "images2_resize = (np.array(images2_resize))/255\n",
        "\n",
        "no_images1 = images1_resize.shape [0]\n",
        "y1 = np.zeros(no_images1) #unmarked\n",
        "\n",
        "no_images2 = images2_resize.shape [0]\n",
        "y2 = np.ones(no_images2) #marked\n",
        "\n",
        "x_test = np.concatenate((images1_resize,images2_resize))\n",
        "x_test =np.reshape(x_test, (x_test.shape[0],x_test.shape[3],x_test.shape[1],x_test.shape[2]))\n",
        "\n",
        "y_test = np.concatenate((y1,y2))"
      ],
      "metadata": {
        "id": "pmT8D3V9sjVi"
      },
      "execution_count": null,
      "outputs": []
    },
    {
      "cell_type": "code",
      "source": [
        "x_test = torch.Tensor(x_test)\n",
        "y_test = torch.Tensor(y_test)\n",
        "torch_images1 = torch.Tensor(images1_resize)\n",
        "torch_images2 = torch.Tensor(images2_resize)"
      ],
      "metadata": {
        "id": "Qd9R-unXtqF9"
      },
      "execution_count": 5,
      "outputs": []
    },
    {
      "cell_type": "code",
      "source": [
        "#data augmentation\n",
        "final_train_data = []\n",
        "final_target_train = []\n",
        "angle = 0\n",
        "NUM=40\n",
        "for i in tqdm(range(torch_images1.shape[0])):\n",
        "    #final_train_data.append(torch_images1[i])\n",
        "  for k in range(NUM):\n",
        "        final_train_data.append(rotate(torch_images1[i], angle=angle+5, mode = 'wrap'))\n",
        "        final_train_data.append(random_noise(torch_images1[i],var=0.2**2*NUM/10))\n",
        "  \n",
        "  for j in range(2*NUM):\n",
        "        final_target_train.append(y1[i])\n",
        "angle = 0\n",
        "for i in tqdm(range(torch_images2.shape[0])):\n",
        "  for k in range(NUM):\n",
        "    final_train_data.append(rotate(torch_images2[i], angle=angle+5, mode = 'wrap'))\n",
        "    final_train_data.append(random_noise(torch_images2[i],var=0.2**2*NUM/10))\n",
        "\n",
        "  for j in range(2*NUM):\n",
        "    final_target_train.append(y2[i])\n",
        "\n",
        "x_train =np.array((final_train_data))\n",
        "#plt.imshow(final_train_data[500])\n",
        "x_train =np.reshape(x_train, (x_train.shape[0],x_train.shape[3],x_train.shape[1],x_train.shape[2]))\n",
        "y_train =np.array((final_target_train))\n",
        "#print(x_train.shape)\n",
        "#print(y_train.shape)\n",
        "\n",
        "x_train = torch.Tensor(x_train)\n",
        "y_train = torch.Tensor(y_train) #arget.long()\n",
        "x_train = x_train.float()\n",
        "y_train = y_train.float()\n",
        "\n",
        "x_test = torch.Tensor(x_test)\n",
        "y_test = torch.Tensor(y_test)\n",
        "x_test = x_test.float()\n",
        "y_test = y_test.float()\n",
        "\n",
        "#print(x_train.shape)\n",
        "##print(y_train.shape)\n",
        "#print(x_test.shape)    \n",
        "#x_train[3]"
      ],
      "metadata": {
        "colab": {
          "base_uri": "https://localhost:8080/"
        },
        "id": "XiN7rCmWv_8y",
        "outputId": "1318fd6a-2ed4-430b-878b-447c49999540"
      },
      "execution_count": 7,
      "outputs": [
        {
          "output_type": "stream",
          "name": "stderr",
          "text": [
            "100%|██████████| 4/4 [00:00<00:00,  4.95it/s]\n",
            "100%|██████████| 4/4 [00:00<00:00,  5.18it/s]\n"
          ]
        }
      ]
    },
    {
      "cell_type": "code",
      "source": [
        "class Net(nn.Module):\n",
        "    def __init__(self):\n",
        "        super().__init__()\n",
        "        self.conv1 = nn.Conv2d(3, 64, 3)\n",
        "        self.conv2 = nn.Conv2d(64, 64, 3)\n",
        "        self.pool = nn.MaxPool2d(2, 2)\n",
        "        self.conv3 = nn.Conv2d(64, 128, 3)\n",
        "        self.conv4 = nn.Conv2d(128, 128, 3)\n",
        "        self.conv5 = nn.Conv2d(128, 256, 3)\n",
        "        self.conv6 = nn.Conv2d(256, 128, 3)\n",
        "        #self.conv5 = nn.Conv2d(64, 16, 3)\n",
        "        self.fc1 = nn.Linear(80000, 32)\n",
        "        self.fc2 = nn.Linear(32, 16)\n",
        "        self.fc3 = nn.Linear(16, 1) #self.fc3 = nn.Linear(84, 2)\n",
        "\n",
        "    def forward(self, x):\n",
        "        x = F.relu(self.conv1(x))\n",
        "        x = self.pool(F.relu(self.conv2(x)))\n",
        "        x = F.relu(self.conv3(x))\n",
        "        x = self.pool(F.relu(self.conv4(x)))\n",
        "        x = F.relu(self.conv5(x))\n",
        "        #x = self.pool(F.relu(self.conv5(x)))\n",
        "        x = F.relu(self.conv6(x))\n",
        "        x = torch.flatten(x, 1) # flatten all dimensions except batch\n",
        "        x = F.relu(self.fc1(x))\n",
        "        x = F.relu(self.fc2(x))\n",
        "        x = self.fc3(x)\n",
        "        return torch.sigmoid(x) #x\n",
        "\n",
        "\n",
        "model = Net()\n",
        "if torch.cuda.is_available():\n",
        "    model.cuda()"
      ],
      "metadata": {
        "id": "-gwSEt1F7ZWL"
      },
      "execution_count": 9,
      "outputs": []
    },
    {
      "cell_type": "code",
      "source": [
        "import torch.optim as optim #do not run this cell more than once\n",
        "\n",
        "y_train = y_train.unsqueeze(1)\n",
        "y_test = y_test.unsqueeze(1)\n",
        "y_train = y_train.float()\n",
        "y_test = y_test.float()\n",
        "\n",
        "criterion = nn.BCELoss() #nn.CrossEntropyLoss() #nn.BCEWithLogitsLoss()# nn.BCELoss() #nn.CrossEntropyLoss()\n",
        "#optimizer = optim.SGD(model.parameters(), lr=0.004, momentum=0.9) #changed lr from 0.001\n",
        "optimizer = optim.Adam(model.parameters(), lr=0.0001) #changed lr from 0.001\n",
        "\n",
        "print(model)\n"
      ],
      "metadata": {
        "colab": {
          "base_uri": "https://localhost:8080/"
        },
        "id": "zVQY6RIeK58f",
        "outputId": "6f741ae7-8ab5-4f89-c7a2-5aaaa6435b36"
      },
      "execution_count": 10,
      "outputs": [
        {
          "output_type": "stream",
          "name": "stdout",
          "text": [
            "Net(\n",
            "  (conv1): Conv2d(3, 64, kernel_size=(3, 3), stride=(1, 1))\n",
            "  (conv2): Conv2d(64, 64, kernel_size=(3, 3), stride=(1, 1))\n",
            "  (pool): MaxPool2d(kernel_size=2, stride=2, padding=0, dilation=1, ceil_mode=False)\n",
            "  (conv3): Conv2d(64, 128, kernel_size=(3, 3), stride=(1, 1))\n",
            "  (conv4): Conv2d(128, 128, kernel_size=(3, 3), stride=(1, 1))\n",
            "  (conv5): Conv2d(128, 256, kernel_size=(3, 3), stride=(1, 1))\n",
            "  (conv6): Conv2d(256, 128, kernel_size=(3, 3), stride=(1, 1))\n",
            "  (fc1): Linear(in_features=80000, out_features=32, bias=True)\n",
            "  (fc2): Linear(in_features=32, out_features=16, bias=True)\n",
            "  (fc3): Linear(in_features=16, out_features=1, bias=True)\n",
            ")\n"
          ]
        }
      ]
    },
    {
      "cell_type": "code",
      "source": [
        "import torch.optim as optim #if you want to rerun the above cell again, you can run this one instead\n",
        "\n",
        "y_train = y_train.float()\n",
        "y_test = y_test.float()\n",
        "\n",
        "criterion = nn.BCELoss() #nn.CrossEntropyLoss() #nn.BCEWithLogitsLoss()# nn.BCELoss() #nn.CrossEntropyLoss()\n",
        "#optimizer = optim.SGD(model.parameters(), lr=0.004, momentum=0.9) #changed lr from 0.001\n",
        "optimizer = optim.Adam(model.parameters(), lr=0.0001) #changed lr from 0.001\n",
        "\n",
        "print(model)\n"
      ],
      "metadata": {
        "id": "Kr94uPUKPt2q"
      },
      "execution_count": null,
      "outputs": []
    },
    {
      "cell_type": "code",
      "source": [
        "t = torch.arange(y_train.shape[0]) \n",
        "np.random.shuffle(t.numpy())\n",
        "#print(t)  \n",
        "x_train_shuffle = x_train[t]\n",
        "y_train_shuffle = y_train[t]\n",
        "#len(y_train_shuffle)"
      ],
      "metadata": {
        "id": "ixuBBAksd23X"
      },
      "execution_count": 13,
      "outputs": []
    },
    {
      "cell_type": "code",
      "source": [
        "torch.manual_seed(0)\n",
        "training_loss1 = []\n",
        "# batch size of the model\n",
        "batch_size = 64\n",
        "\n",
        "# number of epochs to train the model\n",
        "n_epochs = 100\n",
        "\n",
        "for epoch in range(1, n_epochs+1):\n",
        "\n",
        "    train_loss = 0.0\n",
        "        \n",
        "    permutation = torch.randperm(x_train.size()[0])\n",
        "\n",
        "    training_loss = []\n",
        "    \n",
        "    for i in tqdm(range(0,x_train.size()[0], batch_size)):\n",
        "\n",
        "        indices = permutation[i:i+batch_size]\n",
        "        batch_x, batch_y = x_train_shuffle[indices], y_train_shuffle[indices].type(torch.float) #changed long to float\n",
        "        \n",
        "        if torch.cuda.is_available():\n",
        "            batch_x, batch_y = batch_x.cuda(), batch_y.cuda()\n",
        "        \n",
        "        optimizer.zero_grad()\n",
        "        outputs = model(batch_x)\n",
        "        #print(outputs)\n",
        "        loss = criterion(outputs,batch_y)\n",
        "\n",
        "        training_loss.append(loss.item())\n",
        "        loss.backward()\n",
        "        optimizer.step()\n",
        "        \n",
        "    training_loss = np.average(training_loss)\n",
        "    training_loss1.append(training_loss)\n",
        "    print('epoch: \\t', epoch, '\\t training loss: \\t', training_loss)\n"
      ],
      "metadata": {
        "id": "hDgk_v6BQnQX"
      },
      "execution_count": null,
      "outputs": []
    },
    {
      "cell_type": "code",
      "source": [
        "plt.plot(training_loss1, label='training loss')"
      ],
      "metadata": {
        "colab": {
          "base_uri": "https://localhost:8080/",
          "height": 293
        },
        "id": "TrGHMKS_h286",
        "outputId": "0a4b49da-be04-474c-90ad-d28d517065fe"
      },
      "execution_count": 61,
      "outputs": [
        {
          "output_type": "execute_result",
          "data": {
            "text/plain": [
              "[<matplotlib.lines.Line2D at 0x7f04da639730>]"
            ]
          },
          "metadata": {},
          "execution_count": 61
        },
        {
          "output_type": "display_data",
          "data": {
            "text/plain": [
              "<Figure size 432x288 with 1 Axes>"
            ],
            "image/png": "[encoded data removed]"
          },
          "metadata": {
            "needs_background": "light"
          }
        }
      ]
    },
    {
      "cell_type": "code",
      "source": [
        "#torch.save(model, 'model.pt') #uncomment to save new model\n",
        "the_model = torch.load('model.pt')"
      ],
      "metadata": {
        "id": "wbx2D3SPNLdP"
      },
      "execution_count": 34,
      "outputs": []
    },
    {
      "cell_type": "code",
      "source": [
        "torch.manual_seed(0)\n",
        "# prediction for training set\n",
        "prediction = []\n",
        "target = []\n",
        "permutation = torch.randperm(x_train.size()[0])\n",
        "for i in tqdm(range(0,x_train.size()[0], batch_size)):\n",
        "    indices = permutation[i:i+batch_size]\n",
        "    batch_x, batch_y = x_train[indices], y_train[indices].type(torch.float)\n",
        "\n",
        "    if torch.cuda.is_available():\n",
        "        batch_x, batch_y = batch_x.cuda(), batch_y.cuda()\n",
        "\n",
        "    with torch.no_grad():\n",
        "        output = model(batch_x)\n",
        "\n",
        "    predictions = torch.round(output)\n",
        "    prediction.append(predictions)\n",
        "    target.append(batch_y)\n",
        "    \n",
        "# training accuracy\n",
        "accuracy = []\n",
        "for i in range(len(prediction)):\n",
        "    accuracy.append(accuracy_score(target[i].cpu(),prediction[i]))\n",
        "    \n",
        "print('training accuracy: \\t', np.average(accuracy))"
      ],
      "metadata": {
        "colab": {
          "base_uri": "https://localhost:8080/"
        },
        "id": "oT9YdIhMUCBV",
        "outputId": "ef80bb1b-828e-4513-fa12-b99ecbd53cdd"
      },
      "execution_count": 62,
      "outputs": [
        {
          "output_type": "stream",
          "name": "stderr",
          "text": [
            "100%|██████████| 10/10 [00:04<00:00,  2.05it/s]"
          ]
        },
        {
          "output_type": "stream",
          "name": "stdout",
          "text": [
            "training accuracy: \t 1.0\n"
          ]
        },
        {
          "output_type": "stream",
          "name": "stderr",
          "text": [
            "\n"
          ]
        }
      ]
    },
    {
      "cell_type": "code",
      "source": [
        "# checking the performance on validation set\n",
        "torch.manual_seed(0)\n",
        "output = model(x_test)\n",
        "criterion(output, y_test)\n",
        "predictions = torch.round(output)#.type(torch.LongTensor)\n",
        "accuracy_score(predictions.detach().numpy(), y_test.cpu().detach().numpy())"
      ],
      "metadata": {
        "colab": {
          "base_uri": "https://localhost:8080/"
        },
        "id": "GWZmxIGiVFpQ",
        "outputId": "1dbe8ba2-b9c0-45e0-a5b7-f685f0225a05"
      },
      "execution_count": 63,
      "outputs": [
        {
          "output_type": "execute_result",
          "data": {
            "text/plain": [
              "1.0"
            ]
          },
          "metadata": {},
          "execution_count": 63
        }
      ]
    },
    {
      "cell_type": "code",
      "source": [
        "import torch\n",
        "import torchvision\n",
        "from torchvision.io import read_image\n",
        "from torchvision.utils import draw_bounding_boxes\n",
        "from skimage import color\n",
        "\n",
        "box = [330, 190, 660, 355]\n",
        "box = torch.tensor(box)\n",
        "box = box.unsqueeze(0)"
      ],
      "metadata": {
        "id": "4OcZhmgxj1do"
      },
      "execution_count": 87,
      "outputs": []
    }
  ]
}